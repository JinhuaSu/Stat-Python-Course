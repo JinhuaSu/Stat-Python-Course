{
 "cells": [
  {
   "attachments": {},
   "cell_type": "markdown",
   "metadata": {},
   "source": [
    "参考链接：\n",
    "* https://geek-docs.com/python/python-ask-answer/223_tk_1705615334.html 读取tif格式图片教程"
   ]
  },
  {
   "attachments": {},
   "cell_type": "markdown",
   "metadata": {},
   "source": [
    "# 如果使用cloudstudio来运行\n",
    "\n",
    "在云编辑机底部蓝边显示休眠时间的右侧有1核2GB的字样，改为2核4GB重启，不然数据和包不够空间\n",
    "\n",
    "## 安装\n",
    "\n",
    "在终端里输入`conda install -c conda-forge gdal`来安装  并且在Proceed ([y]/n)? 询问是输入y再回车确认\n",
    "\n",
    "## 数据放置\n",
    "\n",
    "将hakui-10.tif放置在data文件夹中\n",
    "\n",
    "## 运行jupyter选择内核：base(python3.11.4)"
   ]
  },
  {
   "cell_type": "code",
   "execution_count": 2,
   "metadata": {},
   "outputs": [],
   "source": [
    "from osgeo import gdal\n",
    "import numpy as np"
   ]
  },
  {
   "cell_type": "code",
   "execution_count": 4,
   "metadata": {},
   "outputs": [
    {
     "name": "stdout",
     "output_type": "stream",
     "text": [
      "地理变换信息： (654122.863, 1.0, 0.0, 4089847.94, 0.0, -1.0)\n",
      "投影信息： PROJCS[\"WGS 84 / UTM zone 53N\",GEOGCS[\"WGS 84\",DATUM[\"WGS_1984\",SPHEROID[\"WGS 84\",6378137,298.257223563,AUTHORITY[\"EPSG\",\"7030\"]],AUTHORITY[\"EPSG\",\"6326\"]],PRIMEM[\"Greenwich\",0,AUTHORITY[\"EPSG\",\"8901\"]],UNIT[\"degree\",0.0174532925199433,AUTHORITY[\"EPSG\",\"9122\"]],AUTHORITY[\"EPSG\",\"4326\"]],PROJECTION[\"Transverse_Mercator\"],PARAMETER[\"latitude_of_origin\",0],PARAMETER[\"central_meridian\",135],PARAMETER[\"scale_factor\",0.9996],PARAMETER[\"false_easting\",500000],PARAMETER[\"false_northing\",0],UNIT[\"metre\",1,AUTHORITY[\"EPSG\",\"9001\"]],AXIS[\"Easting\",EAST],AXIS[\"Northing\",NORTH],AUTHORITY[\"EPSG\",\"32653\"]]\n",
      "影像尺寸： 6795 x 5522\n",
      "栅格数据： [[-3.188606  -3.4330714 -4.196203  ... -3.0016232 -4.0146923 -4.056568 ]\n",
      " [-3.6444335 -4.2536907 -5.4488506 ... -4.4108315 -4.371334  -3.7885566]\n",
      " [-5.4034915 -6.589065  -7.8912473 ... -5.4175034 -4.598599  -3.5299885]\n",
      " ...\n",
      " [-7.5285115 -7.55757   -7.6705217 ...        nan        nan        nan]\n",
      " [-7.1720023 -6.500743  -7.1967645 ...        nan        nan        nan]\n",
      " [-6.220325  -5.002194  -5.7345757 ...        nan        nan        nan]]\n"
     ]
    }
   ],
   "source": [
    "dataset = gdal.Open('../../data/hakui-10.tif', gdal.GA_ReadOnly)\n",
    "\n",
    "geotransform = dataset.GetGeoTransform()\n",
    "print('地理变换信息：', geotransform)\n",
    "\n",
    "# 获取影像的投影信息\n",
    "projection = dataset.GetProjection()\n",
    "print('投影信息：', projection)\n",
    "\n",
    "# 获取影像的宽度和高度\n",
    "width = dataset.RasterXSize\n",
    "height = dataset.RasterYSize\n",
    "print('影像尺寸：', width, 'x', height)\n",
    "\n",
    "# 读取栅格数据\n",
    "band = dataset.GetRasterBand(1)\n",
    "data = band.ReadAsArray(0, 0, width, height)\n",
    "print('栅格数据：', data)\n",
    "\n",
    "# 关闭文件\n",
    "dataset = None"
   ]
  },
  {
   "cell_type": "code",
   "execution_count": 5,
   "metadata": {},
   "outputs": [
    {
     "data": {
      "text/plain": [
       "(5522, 6795)"
      ]
     },
     "execution_count": 5,
     "metadata": {},
     "output_type": "execute_result"
    }
   ],
   "source": [
    "data.shape"
   ]
  },
  {
   "cell_type": "code",
   "execution_count": 6,
   "metadata": {},
   "outputs": [
    {
     "name": "stdout",
     "output_type": "stream",
     "text": [
      "像素值： -5.060918\n",
      "整个波段的像素值： [[-3.188606  -3.4330714 -4.196203  ... -3.0016232 -4.0146923 -4.056568 ]\n",
      " [-3.6444335 -4.2536907 -5.4488506 ... -4.4108315 -4.371334  -3.7885566]\n",
      " [-5.4034915 -6.589065  -7.8912473 ... -5.4175034 -4.598599  -3.5299885]\n",
      " ...\n",
      " [-7.5285115 -7.55757   -7.6705217 ...        nan        nan        nan]\n",
      " [-7.1720023 -6.500743  -7.1967645 ...        nan        nan        nan]\n",
      " [-6.220325  -5.002194  -5.7345757 ...        nan        nan        nan]]\n"
     ]
    }
   ],
   "source": [
    "# 访问特定像素的值\n",
    "value = data[1000, 1000]\n",
    "print('像素值：', value)\n",
    "\n",
    "# 访问整个波段的像素值\n",
    "print('整个波段的像素值：', data)"
   ]
  },
  {
   "cell_type": "code",
   "execution_count": null,
   "metadata": {},
   "outputs": [],
   "source": []
  },
  {
   "cell_type": "code",
   "execution_count": null,
   "metadata": {},
   "outputs": [],
   "source": []
  }
 ],
 "metadata": {
  "kernelspec": {
   "display_name": "Python 3.9.7 ('base')",
   "language": "python",
   "name": "python3"
  },
  "language_info": {
   "codemirror_mode": {
    "name": "ipython",
    "version": 3
   },
   "file_extension": ".py",
   "mimetype": "text/x-python",
   "name": "python",
   "nbconvert_exporter": "python",
   "pygments_lexer": "ipython3",
   "version": "3.11.4"
  },
  "orig_nbformat": 4,
  "vscode": {
   "interpreter": {
    "hash": "88279d2366fe020547cde40dd65aa0e3aa662a6ec1f3ca12d88834876c85e1a6"
   }
  }
 },
 "nbformat": 4,
 "nbformat_minor": 2
}
